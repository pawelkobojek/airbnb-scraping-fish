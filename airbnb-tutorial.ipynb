{
 "cells": [
  {
   "cell_type": "markdown",
   "id": "c2e67ce7",
   "metadata": {},
   "source": [
    "# Scraping Airbnb by Scraping Fish\n",
    "\n",
    "This notebook is an example of how you can scrape a website which uses JavaScript to render its content by using [Scraping Fish API](https://scrapingfish.com). We will extract Airbnb's offers data and perform some basic data visualization. It accompanies [the blog post](https://scrapingfish.com/blog/scraping-airbnb) which explains everything in more detailed manner.\n",
    "\n",
    "To be able to run this notebook and actually scrape the data, you will need Scraping Fish API key which you can [buy here](https://scrapingfish.com/buy). A starter pack costing just $2 will be more than enough to run the notebook many times. Without it, JavaScript will not be rendered and therefore no content will be available on Airbnb's website. \n",
    "\n",
    "Scraping Fish is an API for scraping powered by rotating 4G/LTE mobile proxy by default. It is the best available proxy type for scraping since mobile IPs are ephemeral and constantly reassigned between real users. This type of proxy is capable of scraping even the most demanding websites, without being blocked. You can read more on advanced topics in Scraping Fish API [Documentation](https://scrapingfish.com/docs/intro)."
   ]
  },
  {
   "cell_type": "markdown",
   "id": "a81b3497",
   "metadata": {},
   "source": [
    "## Imports\n",
    "Required packages imported in the cell below are listed in requirements.txt file. Install them first by running `pip install -r requirements.txt`."
   ]
  },
  {
   "cell_type": "code",
   "execution_count": null,
   "id": "66b1ef15",
   "metadata": {},
   "outputs": [],
   "source": [
    "import requests\n",
    "import pandas as pd\n",
    "import datetime\n",
    "import seaborn as sns\n",
    "from bs4 import BeautifulSoup\n",
    "from urllib.parse import quote_plus\n",
    "from tqdm import tqdm\n",
    "import matplotlib.pyplot as plt\n",
    "\n",
    "sns.set_style(\"darkgrid\")\n",
    "sns.set(font_scale=1.3)"
   ]
  },
  {
   "cell_type": "markdown",
   "id": "6f916fb0",
   "metadata": {},
   "source": [
    "## API key\n",
    "Scraping Fish API key is needed to run this example as it allows rendering JS during scraping easily. The API integration only requires adding the prefix to all scraped urls.\n",
    "\n",
    "You can [get API key](https://scrapingfish.com/buy) by buying the cheapest request pack for $2."
   ]
  },
  {
   "cell_type": "code",
   "execution_count": 2,
   "id": "53f320cb",
   "metadata": {},
   "outputs": [],
   "source": [
    "API_KEY = \"[Your Scraping Fish API key]\"\n",
    "url_prefix = f\"https://scraping.narf.ai/api/v1/?render_js=true&api_key={API_KEY}&url=\""
   ]
  },
  {
   "cell_type": "markdown",
   "id": "5314c716",
   "metadata": {},
   "source": [
    "## Parameters\n",
    "Here we define parameters of our query. In this example we scrape San Francisco Bay Area offers available between 2022/06/01 and 2022/10/14, sampling every 45th day. You can change these parameters to whatever you prefer but keep in mind that changing the frequency to lower values (e.g. `\"1D\"`) will result in much longer scraping and not necessarily much better results."
   ]
  },
  {
   "cell_type": "code",
   "execution_count": 3,
   "id": "93396c06",
   "metadata": {},
   "outputs": [],
   "source": [
    "query = \"San-Francisco-Bay-Area--CA--United-States\"\n",
    "start_date = datetime.date(2022, 6, 1)\n",
    "end_date = datetime.date(2022, 10, 14)\n",
    "freq = '45D'\n",
    "num_guests = 1"
   ]
  },
  {
   "cell_type": "markdown",
   "id": "6388c583",
   "metadata": {},
   "source": [
    "## Scraping and Parsing\n",
    "For a given query Airbnb lists 300 offers (15 pages, 20 offers per page). We will scrape all those 15 pages per each processed day and extract info from each offer and append those to a collection.\n",
    "\n",
    "### Parsing individual offer\n",
    "First, let's define a function responsible for parsing an individual offer. It will be called for each offer in a page to extract the relevant info to a dictionary which will then be appended to the collection of all offers. We also need to define a mapping to standardize plular and singular forms to a common one.\n",
    "\n",
    "BeatufiulSoup is used here to select subelements from the top offer's element."
   ]
  },
  {
   "cell_type": "code",
   "execution_count": null,
   "id": "cf3f81eb",
   "metadata": {},
   "outputs": [],
   "source": [
    "key_map = {\n",
    "    'bathrooms': 'bathrooms',\n",
    "    'bathroom': 'bathrooms',\n",
    "    'baths': 'bathrooms',\n",
    "    'bath': 'bathrooms',\n",
    "    'shared baths': 'bathrooms',                    \n",
    "    'shared bath': 'bathrooms',\n",
    "    'private baths': 'bathrooms',                    \n",
    "    'private bath': 'bathrooms',\n",
    "    'half-bath': 'bathrooms',\n",
    "    'bedrooms': 'bedrooms',\n",
    "    'bedroom': 'bedrooms',\n",
    "    'private bedrooms': 'bedrooms',\n",
    "    'private bedroom': 'bedrooms',                    \n",
    "    'beds': 'beds',\n",
    "    'bed': 'beds',\n",
    "    'guest': 'capacity',\n",
    "    'guests': 'capacity',\n",
    "}\n",
    "\n",
    "def parse_offer(offer, checkin):\n",
    "    offer_id = offer.select(\"a\")[0]['target'].split(\"listing_\")[-1]\n",
    "    offer_price = float(''.join(offer.select(\"span._tyxjp1\")[0].text.replace(\",\", \"\").split(\"$\")[1:]))\n",
    "    offer_type = offer.select(\"div.mj1p6c8\")[0].text.split(\" in\")[0]\n",
    "    offer_features = [feature.text for feature in offer.select(\"span.mp2hv9t\")]\n",
    "            \n",
    "    current_offer = {\n",
    "        \"id\": offer_id,\n",
    "        \"price\": offer_price,\n",
    "        \"checkin\": checkin,\n",
    "        \"type\": offer_type,\n",
    "    }\n",
    "    feature_sets = offer.select(\"div.i1wgresd\")\n",
    "    basic_features = [t.text.lower() for t in feature_sets[0].select(\"span.mp2hv9t\")]\n",
    "    other_features = [t.text.lower() for t in feature_sets[1].select(\"span.mp2hv9t\")] if len(feature_sets) > 1 else []\n",
    "    skip = False\n",
    "    for feature in basic_features:\n",
    "        split = feature.split()\n",
    "        if len(split) > 1:\n",
    "            key = ' '.join(split[1:])\n",
    "            if key == 'room types':\n",
    "                return None\n",
    "            current_offer[key_map[key]] = split[0]\n",
    "        else:\n",
    "            if split[0].lower() == 'studio':\n",
    "                current_offer['bedrooms'] = 0\n",
    "\n",
    "    current_offer['wi-fi'] = 'wifi' in other_features\n",
    "    current_offer['kitchen'] = 'kitchen' in other_features\n",
    "    current_offer['washer'] = 'washer' in other_features\n",
    "    current_offer['free parking'] = 'free parking' in other_features\n",
    "    return current_offer"
   ]
  },
  {
   "cell_type": "markdown",
   "id": "61dbe34e",
   "metadata": {},
   "source": [
    "### Date processing\n",
    "For each date in the given date range we process it by querying all the 15 pages of results. For each page, we extract all elements containing offer information, parse it (using the `parse_offer` function defined above) and append the resulting dictionary to the `offers` collection."
   ]
  },
  {
   "cell_type": "code",
   "execution_count": 4,
   "id": "3957a53d",
   "metadata": {},
   "outputs": [],
   "source": [
    "def process_date(checkin_date, num_guests=1):\n",
    "    checkin = checkin_date.strftime(\"%Y-%m-%d\")\n",
    "    checkout = (checkin_date + datetime.timedelta(days=1)).strftime(\"%Y-%m-%d\")\n",
    "    \n",
    "    offers = []\n",
    "    total_num_pages = 15\n",
    "    page = 1\n",
    "    end = False\n",
    "    while page <= total_num_pages:\n",
    "        items_offset = (page - 1) * 20\n",
    "        url = f\"https://www.airbnb.com/s/{query}/homes?checkin={checkin}&checkout={checkout}&adults={num_guests}&items_offset={items_offset}&display_currency=USD\"\n",
    "        url = quote_plus(url)\n",
    "        response = requests.get(f\"{url_prefix}{url}\")\n",
    "        soup = BeautifulSoup(response.content, \"html.parser\")\n",
    "        try:\n",
    "            offers_divs = soup.select(\"div.cm4lcvy\")\n",
    "            for offer in offers_divs:\n",
    "                print(offer)\n",
    "                current_offer = parse_offer(offer, checkin)\n",
    "                if current_offer != None:\n",
    "                    offers.append(current_offer)\n",
    "\n",
    "        \n",
    "            page += 1\n",
    "        except Exception as e:\n",
    "            with open(f\"{items_offset}.html\", \"wb\") as f:\n",
    "                f.write(response.content)\n",
    "            raise e\n",
    "    return offers"
   ]
  },
  {
   "cell_type": "markdown",
   "id": "db50363f",
   "metadata": {},
   "source": [
    "### Scraping process\n",
    "Now we just iterate over the desired date range and process each date according to the logic defined in functions above. It will take a couple of minutes depending on the range. "
   ]
  },
  {
   "cell_type": "code",
   "execution_count": 14,
   "id": "a38dcda7",
   "metadata": {
    "scrolled": true
   },
   "outputs": [
    {
     "name": "stderr",
     "output_type": "stream",
     "text": [
      "\r",
      "  0%|                                                                                                                                                                                                                   | 0/4 [00:00<?, ?it/s]"
     ]
    },
    {
     "name": "stdout",
     "output_type": "stream",
     "text": [
      "2022-06-01 00:00:00\n"
     ]
    },
    {
     "name": "stderr",
     "output_type": "stream",
     "text": [
      "  0%|                                                                                                                                                                                                                   | 0/4 [00:36<?, ?it/s]\n"
     ]
    }
   ],
   "source": [
    "offers = []\n",
    "for date in tqdm(pd.date_range(start_date, end_date, freq=freq)):\n",
    "    offers += process_date(checkin_date=date)"
   ]
  },
  {
   "cell_type": "code",
   "execution_count": 12,
   "id": "eb326ee8",
   "metadata": {},
   "outputs": [
    {
     "data": {
      "text/plain": [
       "[]"
      ]
     },
     "execution_count": 12,
     "metadata": {},
     "output_type": "execute_result"
    }
   ],
   "source": [
    "offers"
   ]
  },
  {
   "cell_type": "markdown",
   "id": "d3bbebd6",
   "metadata": {},
   "source": [
    "## Data exploration\n",
    "\n",
    "Now that we have the data ready in memory, let's create a pandas dataframe and explore it. We will also write our data to csv and load it which has an additional benefit of auto-conversion of numeric data to proper types."
   ]
  },
  {
   "cell_type": "code",
   "execution_count": 6,
   "id": "96720003",
   "metadata": {},
   "outputs": [],
   "source": [
    "offers_df = pd.DataFrame(offers)\n",
    "offers_df.to_csv('./data.csv', sep=';', index=False)\n",
    "offers_df = pd.read_csv(\"./data.csv\", sep=\";\")"
   ]
  },
  {
   "cell_type": "markdown",
   "id": "e6eb2e61",
   "metadata": {},
   "source": [
    "We will clear duplicated ads first, count the data and count values by type."
   ]
  },
  {
   "cell_type": "code",
   "execution_count": 7,
   "id": "0113e2b9",
   "metadata": {},
   "outputs": [
    {
     "name": "stdout",
     "output_type": "stream",
     "text": [
      "Number of data points: 677\n",
      "Private room                 241\n",
      "Entire home                  104\n",
      "Entire guest suite            96\n",
      "Entire guesthouse             75\n",
      "Entire rental unit            43\n",
      "Room                          20\n",
      "Entire cottage                14\n",
      "Hotel room                    13\n",
      "Entire condo                   8\n",
      "Entire cabin                   7\n",
      "Tiny home                      6\n",
      "Entire bungalow                6\n",
      "Entire apartment               5\n",
      "Hostel beds                    5\n",
      "Hostel room                    4\n",
      "Entire vacation home           4\n",
      "Treehouse                      4\n",
      "Farm stay                      3\n",
      "Tent                           3\n",
      "Shared room                    2\n",
      "Entire villa                   2\n",
      "Boat                           2\n",
      "Houseboat                      2\n",
      "Yurt                           2\n",
      "Entire serviced apartment      1\n",
      "Entire loft                    1\n",
      "Tower                          1\n",
      "Camper/RV                      1\n",
      "Entire townhouse               1\n",
      "Bus                            1\n",
      "Name: type, dtype: int64\n"
     ]
    }
   ],
   "source": [
    "offers_df = offers_df.drop_duplicates(subset=['id'], keep='last')\n",
    "print(\"Number of data points:\", len(offers_df))\n",
    "print(offers_df['type'].value_counts())"
   ]
  },
  {
   "cell_type": "markdown",
   "id": "9dfedbe4",
   "metadata": {},
   "source": [
    "Here we see a fair count of detailed types but we are more insterested in broader type, i.e. we want only to count: \"Entire place\", \"Private room\", \"Hotel room\" and \"Shared room\":"
   ]
  },
  {
   "cell_type": "code",
   "execution_count": 10,
   "id": "ac6fa4cb",
   "metadata": {},
   "outputs": [],
   "source": [
    "offers_df[\"type\"].replace({\n",
    "    \"Entire home\": \"Entire place\",\n",
    "    \"Entire guest suite\": \"Entire place\",\n",
    "    \"Entire guesthouse\": \"Entire place\",\n",
    "    \"Entire rental unit\": \"Entire place\",\n",
    "    \"Entire cottage\": \"Entire place\",\n",
    "    \"Entire condo\": \"Entire place\",\n",
    "    \"Entire cabin\": \"Entire place\",\n",
    "    \"Entire bungalow\": \"Entire place\",\n",
    "    \"Tiny home\": \"Entire place\", \n",
    "    \"Entire villa\": \"Entire place\",\n",
    "    \"Treehouse\": \"Entire place\",\n",
    "    \"Entire vacation home\": \"Entire place\",\n",
    "    \"Entire apartment\": \"Entire place\",\n",
    "    \"Boat\": \"Entire place\",\n",
    "    \"Houseboat\": \"Entire place\",\n",
    "    \"Farm stay\": \"Entire place\",\n",
    "    \"Tower\": \"Entire place\",\n",
    "    \"Entire loft\": \"Entire place\",\n",
    "    \"Entire townhouse\": \"Entire place\",\n",
    "    \"Bus\": \"Entire place\",\n",
    "    \"Camper/RV\": \"Entire place\",\n",
    "    \"Yurt\": \"Entire place\",\n",
    "    \"Tent\": \"Entire place\",\n",
    "    \"Entire serviced apartment\": \"Entire place\",\n",
    "    \"Room\": \"Private room\",\n",
    "    \"Hostel room\": \"Private room\",\n",
    "    \"Hostel beds\": \"Shared room\",\n",
    "}, inplace=True)"
   ]
  },
  {
   "cell_type": "markdown",
   "id": "cdc116da",
   "metadata": {},
   "source": [
    "### What types of offers are the most common? How many beds is expected per type?\n",
    "Now, let's see how many of those broader types offers are there and at the same type find out how many beds those type typically offer:"
   ]
  },
  {
   "cell_type": "code",
   "execution_count": 11,
   "id": "9e9b9bf5",
   "metadata": {},
   "outputs": [
    {
     "data": {
      "image/png": "[encoded data removed]",
      "text/plain": [
       "<Figure size 1008x576 with 1 Axes>"
      ]
     },
     "metadata": {},
     "output_type": "display_data"
    }
   ],
   "source": [
    "plt.figure(figsize=(14,8))\n",
    "ax = sns.histplot(data=offers_df, x=\"type\", shrink=0.9, alpha=0.9, multiple=\"stack\", hue=\"beds\")\n",
    "for label in ax.get_xticklabels():\n",
    "    label.set_rotation(35)"
   ]
  },
  {
   "cell_type": "markdown",
   "id": "4bab07a2",
   "metadata": {},
   "source": [
    "Whole places clearly dominate the space and most of the places have 1 or 2 beds. Let's now see how prices relate to capacity of the offers:\n",
    "\n",
    "### Price to max. number of guests and most expensives offers\n",
    "\n",
    "We will now check how prices relate to guest capacity."
   ]
  },
  {
   "cell_type": "code",
   "execution_count": 12,
   "id": "b881897a",
   "metadata": {},
   "outputs": [
    {
     "data": {
      "text/plain": [
       "[Text(0.5, 0, 'Max. number of guests'), Text(0, 0.5, 'Price')]"
      ]
     },
     "execution_count": 12,
     "metadata": {},
     "output_type": "execute_result"
    },
    {
     "data": {
      "image/png": "[encoded data removed]",
      "text/plain": [
       "<Figure size 1008x576 with 1 Axes>"
      ]
     },
     "metadata": {},
     "output_type": "display_data"
    }
   ],
   "source": [
    "plt.figure(figsize=(14,8))\n",
    "ax = sns.stripplot(data=offers_df, x=\"capacity\", y=\"price\", dodge=True, hue=\"type\")\n",
    "ax.set(xlabel=\"Max. number of guests\", ylabel=\"Price\")"
   ]
  },
  {
   "cell_type": "markdown",
   "id": "37cf62e2",
   "metadata": {},
   "source": [
    "### The most expensive offers\n",
    "Below we get the offers priced over $1,500 and generate links to them."
   ]
  },
  {
   "cell_type": "code",
   "execution_count": 15,
   "id": "cffe7cfd",
   "metadata": {},
   "outputs": [
    {
     "data": {
      "text/html": [
       "<div>\n",
       "<style scoped>\n",
       "    .dataframe tbody tr th:only-of-type {\n",
       "        vertical-align: middle;\n",
       "    }\n",
       "\n",
       "    .dataframe tbody tr th {\n",
       "        vertical-align: top;\n",
       "    }\n",
       "\n",
       "    .dataframe thead th {\n",
       "        text-align: right;\n",
       "    }\n",
       "</style>\n",
       "<table border=\"1\" class=\"dataframe\">\n",
       "  <thead>\n",
       "    <tr style=\"text-align: right;\">\n",
       "      <th></th>\n",
       "      <th>id</th>\n",
       "      <th>price</th>\n",
       "      <th>checkin</th>\n",
       "      <th>type</th>\n",
       "      <th>capacity</th>\n",
       "      <th>bedrooms</th>\n",
       "      <th>beds</th>\n",
       "      <th>bathrooms</th>\n",
       "      <th>wi-fi</th>\n",
       "      <th>kitchen</th>\n",
       "      <th>washer</th>\n",
       "      <th>free parking</th>\n",
       "    </tr>\n",
       "  </thead>\n",
       "  <tbody>\n",
       "    <tr>\n",
       "      <th>559</th>\n",
       "      <td>33517793</td>\n",
       "      <td>1934.0</td>\n",
       "      <td>2022-07-16</td>\n",
       "      <td>Entire place</td>\n",
       "      <td>8</td>\n",
       "      <td>3</td>\n",
       "      <td>3.0</td>\n",
       "      <td>3</td>\n",
       "      <td>True</td>\n",
       "      <td>True</td>\n",
       "      <td>True</td>\n",
       "      <td>False</td>\n",
       "    </tr>\n",
       "    <tr>\n",
       "      <th>745</th>\n",
       "      <td>49156839</td>\n",
       "      <td>1624.0</td>\n",
       "      <td>2022-08-30</td>\n",
       "      <td>Entire place</td>\n",
       "      <td>6</td>\n",
       "      <td>3</td>\n",
       "      <td>4.0</td>\n",
       "      <td>2</td>\n",
       "      <td>True</td>\n",
       "      <td>True</td>\n",
       "      <td>True</td>\n",
       "      <td>True</td>\n",
       "    </tr>\n",
       "    <tr>\n",
       "      <th>756</th>\n",
       "      <td>571648129847713657</td>\n",
       "      <td>2347.0</td>\n",
       "      <td>2022-08-30</td>\n",
       "      <td>Entire place</td>\n",
       "      <td>16</td>\n",
       "      <td>5</td>\n",
       "      <td>10.0</td>\n",
       "      <td>4</td>\n",
       "      <td>True</td>\n",
       "      <td>True</td>\n",
       "      <td>True</td>\n",
       "      <td>True</td>\n",
       "    </tr>\n",
       "    <tr>\n",
       "      <th>784</th>\n",
       "      <td>19886749</td>\n",
       "      <td>3040.0</td>\n",
       "      <td>2022-08-30</td>\n",
       "      <td>Entire place</td>\n",
       "      <td>8</td>\n",
       "      <td>3</td>\n",
       "      <td>8.0</td>\n",
       "      <td>2</td>\n",
       "      <td>True</td>\n",
       "      <td>True</td>\n",
       "      <td>True</td>\n",
       "      <td>True</td>\n",
       "    </tr>\n",
       "    <tr>\n",
       "      <th>871</th>\n",
       "      <td>49929211</td>\n",
       "      <td>1643.0</td>\n",
       "      <td>2022-08-30</td>\n",
       "      <td>Entire place</td>\n",
       "      <td>12</td>\n",
       "      <td>4</td>\n",
       "      <td>6.0</td>\n",
       "      <td>2</td>\n",
       "      <td>True</td>\n",
       "      <td>True</td>\n",
       "      <td>True</td>\n",
       "      <td>True</td>\n",
       "    </tr>\n",
       "    <tr>\n",
       "      <th>1167</th>\n",
       "      <td>4033038</td>\n",
       "      <td>2467.0</td>\n",
       "      <td>2022-10-14</td>\n",
       "      <td>Entire place</td>\n",
       "      <td>12</td>\n",
       "      <td>4</td>\n",
       "      <td>5.0</td>\n",
       "      <td>3.5</td>\n",
       "      <td>True</td>\n",
       "      <td>True</td>\n",
       "      <td>True</td>\n",
       "      <td>True</td>\n",
       "    </tr>\n",
       "  </tbody>\n",
       "</table>\n",
       "</div>"
      ],
      "text/plain": [
       "                      id   price     checkin          type  capacity  \\\n",
       "559             33517793  1934.0  2022-07-16  Entire place         8   \n",
       "745             49156839  1624.0  2022-08-30  Entire place         6   \n",
       "756   571648129847713657  2347.0  2022-08-30  Entire place        16   \n",
       "784             19886749  3040.0  2022-08-30  Entire place         8   \n",
       "871             49929211  1643.0  2022-08-30  Entire place        12   \n",
       "1167             4033038  2467.0  2022-10-14  Entire place        12   \n",
       "\n",
       "      bedrooms  beds bathrooms  wi-fi  kitchen  washer  free parking  \n",
       "559          3   3.0         3   True     True    True         False  \n",
       "745          3   4.0         2   True     True    True          True  \n",
       "756          5  10.0         4   True     True    True          True  \n",
       "784          3   8.0         2   True     True    True          True  \n",
       "871          4   6.0         2   True     True    True          True  \n",
       "1167         4   5.0       3.5   True     True    True          True  "
      ]
     },
     "execution_count": 15,
     "metadata": {},
     "output_type": "execute_result"
    }
   ],
   "source": [
    "offers_df[offers_df.price > 1500]"
   ]
  },
  {
   "cell_type": "code",
   "execution_count": 18,
   "id": "a638c559",
   "metadata": {},
   "outputs": [
    {
     "name": "stdout",
     "output_type": "stream",
     "text": [
      "https://airbnb.com/rooms/33517793\n",
      "https://airbnb.com/rooms/49156839\n",
      "https://airbnb.com/rooms/571648129847713657\n",
      "https://airbnb.com/rooms/19886749\n",
      "https://airbnb.com/rooms/49929211\n",
      "https://airbnb.com/rooms/4033038\n"
     ]
    }
   ],
   "source": [
    "for offer_id in offers_df[offers_df.price > 1500].id:\n",
    "    print(f\"https://airbnb.com/rooms/{offer_id}\")"
   ]
  },
  {
   "cell_type": "markdown",
   "id": "b0aba92d",
   "metadata": {},
   "source": [
    "# Wrap up\n",
    "\n",
    "Airbnb is an example website which doesn't show much content without javascript enabled. Scraping Fish [javascript rendering](https://scrapingfish.com/docs/api-options) feature made dealing with this a breeze.\n",
    "\n",
    "We barely scratched the surface of what's possible when it comes to data exploration. For the sake of simplicity we restricted our analysis to relatively small dataset. However, we plan to get much more data and conduct a more thorough analysis so stay tuned and check our blog for more!\n",
    "\n",
    "If you are interested in scraping data and building products around it give Scraping Fish a try. You can [start](https://scrapingfish.com/buy) with only $2 and absolutely no commitment."
   ]
  }
 ],
 "metadata": {
  "kernelspec": {
   "display_name": "Python 3 (ipykernel)",
   "language": "python",
   "name": "python3"
  },
  "language_info": {
   "codemirror_mode": {
    "name": "ipython",
    "version": 3
   },
   "file_extension": ".py",
   "mimetype": "text/x-python",
   "name": "python",
   "nbconvert_exporter": "python",
   "pygments_lexer": "ipython3",
   "version": "3.10.0"
  }
 },
 "nbformat": 4,
 "nbformat_minor": 5
}
